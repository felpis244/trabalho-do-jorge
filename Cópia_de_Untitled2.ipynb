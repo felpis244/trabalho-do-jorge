{
  "nbformat": 4,
  "nbformat_minor": 0,
  "metadata": {
    "colab": {
      "provenance": [],
      "authorship_tag": "ABX9TyN6yiI0sPpyWUExFsMZtH15",
      "include_colab_link": true
    },
    "kernelspec": {
      "name": "python3",
      "display_name": "Python 3"
    },
    "language_info": {
      "name": "python"
    }
  },
  "cells": [
    {
      "cell_type": "markdown",
      "metadata": {
        "id": "view-in-github",
        "colab_type": "text"
      },
      "source": [
        "<a href=\"https://colab.research.google.com/github/felpis244/trabalho-do-jorge/blob/https%2Fgithub.com%2Ffelpis244%2FNetflix-login/C%C3%B3pia_de_Untitled2.ipynb\" target=\"_parent\"><img src=\"https://colab.research.google.com/assets/colab-badge.svg\" alt=\"Open In Colab\"/></a>"
      ]
    },
    {
      "cell_type": "markdown",
      "source": [],
      "metadata": {
        "id": "q52vgPqtskKe"
      }
    },
    {
      "cell_type": "code",
      "execution_count": null,
      "metadata": {
        "colab": {
          "base_uri": "https://localhost:8080/"
        },
        "id": "blmBwAf2kHCB",
        "outputId": "e0acfdcf-fc53-45db-d5d1-f8c671a279bd"
      },
      "outputs": [
        {
          "output_type": "stream",
          "name": "stdout",
          "text": [
            "Requirement already satisfied: textblob in /usr/local/lib/python3.10/dist-packages (0.17.1)\n",
            "Requirement already satisfied: nltk>=3.1 in /usr/local/lib/python3.10/dist-packages (from textblob) (3.9.1)\n",
            "Requirement already satisfied: click in /usr/local/lib/python3.10/dist-packages (from nltk>=3.1->textblob) (8.1.7)\n",
            "Requirement already satisfied: joblib in /usr/local/lib/python3.10/dist-packages (from nltk>=3.1->textblob) (1.4.2)\n",
            "Requirement already satisfied: regex>=2021.8.3 in /usr/local/lib/python3.10/dist-packages (from nltk>=3.1->textblob) (2024.9.11)\n",
            "Requirement already satisfied: tqdm in /usr/local/lib/python3.10/dist-packages (from nltk>=3.1->textblob) (4.66.6)\n"
          ]
        }
      ],
      "source": [
        "# Instalar a biblioteca TextBlob\n",
        "!pip install textblob\n",
        "\n",
        "# Importar a biblioteca\n",
        "from textblob import TextBlob\n"
      ]
    },
    {
      "cell_type": "code",
      "source": [
        "# Função para realizar análise de sentimento\n",
        "def analisar_sentimento(texto):\n",
        "    # Criar um objeto TextBlob\n",
        "    blob = TextBlob(texto)\n",
        "\n",
        "    # Obter a polaridade do texto\n",
        "\n",
        "\n",
        "    polaridade = blob.sentiment.polarity\n",
        "\n",
        "    # Determinar o tipo de sentimento com a polaridade\n",
        "    if polaridade > 0:\n",
        "        sentimento = \"Positivo\"\n",
        "    elif polaridade < 0:\n",
        "        sentimento = \"Negativo\"\n",
        "    else:\n",
        "        sentimento = \"Neutro\"\n",
        "\n",
        "    # Retornar o resultado\n",
        "    return f\"Sentimento: {sentimento} \"\n",
        "\n",
        "# O exemplo\n",
        "texto_exemplo = input(\"Digite um texto para análise de sentimento: \")\n",
        "resultado = analisar_sentimento(texto_exemplo)\n",
        "print(resultado)"
      ],
      "metadata": {
        "colab": {
          "base_uri": "https://localhost:8080/"
        },
        "id": "9GxKtyQco6UR",
        "outputId": "65c4e96e-615e-4d09-c94c-9470b5ece7b2"
      },
      "execution_count": null,
      "outputs": [
        {
          "output_type": "stream",
          "name": "stdout",
          "text": [
            "Digite um texto para análise de sentimento: I am happy\n",
            "Sentimento: Positivo \n"
          ]
        }
      ]
    },
    {
      "cell_type": "code",
      "source": [
        "frases=[\n",
        "    \"I am happy\"\n",
        "    \"I hate you\"\n",
        "    \"I am sad\"\n",
        "    \"I am angry\"\n",
        "    \"I am excited\"\n",
        "    \"I am don't know you\"\n",
        "]"
      ],
      "metadata": {
        "id": "j3SVTY2-s5Cx"
      },
      "execution_count": null,
      "outputs": []
    },
    {
      "cell_type": "code",
      "source": [
        "#Introdução à biblioteca utilizada, com descrição dos principais métodos ou funções.\n",
        "\n",
        "#A TextBlob é uma biblioteca de Python projetada para facilitar o processamento de linguagem natural. Ela oferece uma API simples para realizar diversas tarefas, como análise de sentimentos, tradução, correção ortográfica, tokenização e muito mais. Sua principal vantagem é permitir que desenvolvedores e iniciantes realizem tarefas complexas de forma fácil e acessível.\n",
        "\n",
        "#Principais Funcionalidades:\n",
        "\n",
        "#Análise de Sentimento: O TextBlob permite avaliar a polaridade (se o sentimento é positivo ou negativo) e a subjetividade (se o texto expressa uma opinião ou fato) de um texto.\n",
        "\n",
        "#Tradução e Detecção de Idioma: A biblioteca permite detectar automaticamente o idioma de um texto e traduzi-lo para outro idioma, utilizando o serviço do Google Translate.\n",
        "\n",
        "#Tokenização: A tokenização é o processo de dividir um texto em unidades menores, como palavras ou frases. O TextBlob facilita essa divisão, permitindo manipular essas unidades com facilidade.\n",
        "\n",
        "#Correção Ortográfica: A TextBlob possui um recurso que pode corrigir erros ortográficos em textos, sugerindo as correções mais prováveis com base no contexto.\n",
        "\n",
        "\n",
        "#Classificação Gramatical : O TextBlob pode identificar as classes gramaticais das palavras em um texto, como substantivos, verbos, adjetivos, etc., o que é útil para tarefas de análise sintática.\n",
        "\n",
        "#Vantagens:\n",
        "#Simplicidade: Sua interface é fácil de usar, o que a torna ideal para iniciantes em processamento de linguagem natural.\n",
        "#Versatilidade: Oferece uma ampla funcionalidades que cobrem muitas necessidades comuns em processamento de texto.\n",
        "#Integração com outras bibliotecas: A TextBlob é construída sobre o NLTK e o Pattern, que são bibliotecas poderosas no campo do PLN.\n",
        "#Limitações:\n",
        "#Precisão: Para tarefas mais avançadas, como análise de sentimentos complexos ou tradução precisa, a TextBlob pode ser menos precisa em comparação com soluções mais sofisticadas, como modelos baseados em aprendizado de máquina ou redes neurais.\n",
        "#Desempenho: Para grandes volumes de dados, a TextBlob pode ser mais lenta que outras bibliotecas especializadas."
      ],
      "metadata": {
        "id": "wK-eUq5wXBrW"
      },
      "execution_count": null,
      "outputs": []
    }
  ]
}